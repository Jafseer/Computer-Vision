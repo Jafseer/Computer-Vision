{
 "cells": [
  {
   "cell_type": "markdown",
   "metadata": {},
   "source": [
    "# Data Processing  - Pandas"
   ]
  },
  {
   "cell_type": "code",
   "execution_count": 1,
   "metadata": {
    "scrolled": true
   },
   "outputs": [
    {
     "name": "stdout",
     "output_type": "stream",
     "text": [
      "0    a\n",
      "1    b\n",
      "2    c\n",
      "3    d\n",
      "dtype: object\n"
     ]
    }
   ],
   "source": [
    "import pandas as pd\n",
    "import numpy as np\n",
    "data = np.array(['a','b','c','d'])\n",
    "s = pd.Series(data)\n",
    "print(s)"
   ]
  },
  {
   "cell_type": "code",
   "execution_count": 2,
   "metadata": {},
   "outputs": [
    {
     "name": "stdout",
     "output_type": "stream",
     "text": [
      "a    0.0\n",
      "b    1.0\n",
      "c    2.0\n",
      "dtype: float64\n"
     ]
    }
   ],
   "source": [
    "data = {'a' : 0., 'b' : 1., 'c' : 2.}\n",
    "s = pd.Series(data)\n",
    "print(s)"
   ]
  },
  {
   "cell_type": "code",
   "execution_count": 3,
   "metadata": {},
   "outputs": [
    {
     "name": "stdout",
     "output_type": "stream",
     "text": [
      "     Name  Age\n",
      "0    Alex   10\n",
      "1     Bob   12\n",
      "2  Clarke   13\n"
     ]
    }
   ],
   "source": [
    "data = [['Alex',10],['Bob',12],['Clarke',13]]\n",
    "df = pd.DataFrame(data,columns=['Name','Age'])\n",
    "print(df)"
   ]
  },
  {
   "cell_type": "code",
   "execution_count": 4,
   "metadata": {},
   "outputs": [
    {
     "name": "stdout",
     "output_type": "stream",
     "text": [
      "    Name  Age\n",
      "0    Tom   28\n",
      "1   Jack   34\n",
      "2  Steve   29\n",
      "3  Ricky   42\n"
     ]
    }
   ],
   "source": [
    "data = {'Name':['Tom', 'Jack', 'Steve', 'Ricky'],'Age':[28,34,29,42]}\n",
    "df = pd.DataFrame(data)\n",
    "print(df)"
   ]
  },
  {
   "cell_type": "code",
   "execution_count": 5,
   "metadata": {},
   "outputs": [
    {
     "name": "stdout",
     "output_type": "stream",
     "text": [
      "    V1 V2 V3 V4 V5 V6 V7 V8 V9       V10\n",
      "0    x  x  x  x  o  o  x  o  o  positive\n",
      "1    x  x  x  x  o  o  o  x  o  positive\n",
      "2    x  x  x  x  o  o  o  o  x  positive\n",
      "3    x  x  x  x  o  o  o  b  b  positive\n",
      "4    x  x  x  x  o  o  b  o  b  positive\n",
      "..  .. .. .. .. .. .. .. .. ..       ...\n",
      "953  o  x  x  x  o  o  o  x  x  negative\n",
      "954  o  x  o  x  x  o  x  o  x  negative\n",
      "955  o  x  o  x  o  x  x  o  x  negative\n",
      "956  o  x  o  o  x  x  x  o  x  negative\n",
      "957  o  o  x  x  x  o  o  x  x  negative\n",
      "\n",
      "[958 rows x 10 columns]\n",
      "  V1 V2 V3 V4 V5 V6 V7 V8 V9       V10\n",
      "0  x  x  x  x  o  o  x  o  o  positive\n",
      "1  x  x  x  x  o  o  o  x  o  positive\n",
      "2  x  x  x  x  o  o  o  o  x  positive\n",
      "3  x  x  x  x  o  o  o  b  b  positive\n",
      "4  x  x  x  x  o  o  b  o  b  positive\n",
      "    V1 V2 V3 V4 V5 V6 V7 V8 V9       V10\n",
      "953  o  x  x  x  o  o  o  x  x  negative\n",
      "954  o  x  o  x  x  o  x  o  x  negative\n",
      "955  o  x  o  x  o  x  x  o  x  negative\n",
      "956  o  x  o  o  x  x  x  o  x  negative\n",
      "957  o  o  x  x  x  o  o  x  x  negative\n"
     ]
    }
   ],
   "source": [
    "df = pd.read_csv('tic-tac-toe-endgame.csv')\n",
    "print(df)\n",
    "\n",
    "print(df.head())  #First 5 raws\n",
    "print(df.tail())  #Last 5 raws"
   ]
  },
  {
   "cell_type": "code",
   "execution_count": 8,
   "metadata": {},
   "outputs": [
    {
     "data": {
      "text/plain": [
       "V1     object\n",
       "V2     object\n",
       "V3     object\n",
       "V4     object\n",
       "V5     object\n",
       "V6     object\n",
       "V7     object\n",
       "V8     object\n",
       "V9     object\n",
       "V10    object\n",
       "dtype: object"
      ]
     },
     "execution_count": 8,
     "metadata": {},
     "output_type": "execute_result"
    }
   ],
   "source": [
    "df.dtypes"
   ]
  },
  {
   "cell_type": "code",
   "execution_count": 10,
   "metadata": {},
   "outputs": [
    {
     "data": {
      "text/html": [
       "<div>\n",
       "<style scoped>\n",
       "    .dataframe tbody tr th:only-of-type {\n",
       "        vertical-align: middle;\n",
       "    }\n",
       "\n",
       "    .dataframe tbody tr th {\n",
       "        vertical-align: top;\n",
       "    }\n",
       "\n",
       "    .dataframe thead th {\n",
       "        text-align: right;\n",
       "    }\n",
       "</style>\n",
       "<table border=\"1\" class=\"dataframe\">\n",
       "  <thead>\n",
       "    <tr style=\"text-align: right;\">\n",
       "      <th></th>\n",
       "      <th>0</th>\n",
       "      <th>1</th>\n",
       "      <th>2</th>\n",
       "      <th>3</th>\n",
       "      <th>4</th>\n",
       "    </tr>\n",
       "  </thead>\n",
       "  <tbody>\n",
       "    <tr>\n",
       "      <th>0</th>\n",
       "      <td>5.1</td>\n",
       "      <td>3.5</td>\n",
       "      <td>1.4</td>\n",
       "      <td>0.2</td>\n",
       "      <td>Iris-setosa</td>\n",
       "    </tr>\n",
       "    <tr>\n",
       "      <th>1</th>\n",
       "      <td>4.9</td>\n",
       "      <td>3.0</td>\n",
       "      <td>1.4</td>\n",
       "      <td>0.2</td>\n",
       "      <td>Iris-setosa</td>\n",
       "    </tr>\n",
       "    <tr>\n",
       "      <th>2</th>\n",
       "      <td>4.7</td>\n",
       "      <td>3.2</td>\n",
       "      <td>1.3</td>\n",
       "      <td>0.2</td>\n",
       "      <td>Iris-setosa</td>\n",
       "    </tr>\n",
       "    <tr>\n",
       "      <th>3</th>\n",
       "      <td>4.6</td>\n",
       "      <td>3.1</td>\n",
       "      <td>1.5</td>\n",
       "      <td>0.2</td>\n",
       "      <td>Iris-setosa</td>\n",
       "    </tr>\n",
       "    <tr>\n",
       "      <th>4</th>\n",
       "      <td>5.0</td>\n",
       "      <td>3.6</td>\n",
       "      <td>1.4</td>\n",
       "      <td>0.2</td>\n",
       "      <td>Iris-setosa</td>\n",
       "    </tr>\n",
       "  </tbody>\n",
       "</table>\n",
       "</div>"
      ],
      "text/plain": [
       "     0    1    2    3            4\n",
       "0  5.1  3.5  1.4  0.2  Iris-setosa\n",
       "1  4.9  3.0  1.4  0.2  Iris-setosa\n",
       "2  4.7  3.2  1.3  0.2  Iris-setosa\n",
       "3  4.6  3.1  1.5  0.2  Iris-setosa\n",
       "4  5.0  3.6  1.4  0.2  Iris-setosa"
      ]
     },
     "execution_count": 10,
     "metadata": {},
     "output_type": "execute_result"
    }
   ],
   "source": [
    "df = pd.read_csv(\"https://archive.ics.uci.edu/ml/machine-learning-databases/iris/iris.data\",header=None)\n",
    "df.head()"
   ]
  },
  {
   "cell_type": "code",
   "execution_count": 15,
   "metadata": {},
   "outputs": [
    {
     "data": {
      "text/html": [
       "<div>\n",
       "<style scoped>\n",
       "    .dataframe tbody tr th:only-of-type {\n",
       "        vertical-align: middle;\n",
       "    }\n",
       "\n",
       "    .dataframe tbody tr th {\n",
       "        vertical-align: top;\n",
       "    }\n",
       "\n",
       "    .dataframe thead th {\n",
       "        text-align: right;\n",
       "    }\n",
       "</style>\n",
       "<table border=\"1\" class=\"dataframe\">\n",
       "  <thead>\n",
       "    <tr style=\"text-align: right;\">\n",
       "      <th></th>\n",
       "      <th>0</th>\n",
       "      <th>1</th>\n",
       "      <th>2</th>\n",
       "      <th>3</th>\n",
       "    </tr>\n",
       "  </thead>\n",
       "  <tbody>\n",
       "    <tr>\n",
       "      <th>count</th>\n",
       "      <td>150.000000</td>\n",
       "      <td>150.000000</td>\n",
       "      <td>150.000000</td>\n",
       "      <td>150.000000</td>\n",
       "    </tr>\n",
       "    <tr>\n",
       "      <th>mean</th>\n",
       "      <td>5.843333</td>\n",
       "      <td>3.054000</td>\n",
       "      <td>3.758667</td>\n",
       "      <td>1.198667</td>\n",
       "    </tr>\n",
       "    <tr>\n",
       "      <th>std</th>\n",
       "      <td>0.828066</td>\n",
       "      <td>0.433594</td>\n",
       "      <td>1.764420</td>\n",
       "      <td>0.763161</td>\n",
       "    </tr>\n",
       "    <tr>\n",
       "      <th>min</th>\n",
       "      <td>4.300000</td>\n",
       "      <td>2.000000</td>\n",
       "      <td>1.000000</td>\n",
       "      <td>0.100000</td>\n",
       "    </tr>\n",
       "    <tr>\n",
       "      <th>25%</th>\n",
       "      <td>5.100000</td>\n",
       "      <td>2.800000</td>\n",
       "      <td>1.600000</td>\n",
       "      <td>0.300000</td>\n",
       "    </tr>\n",
       "    <tr>\n",
       "      <th>50%</th>\n",
       "      <td>5.800000</td>\n",
       "      <td>3.000000</td>\n",
       "      <td>4.350000</td>\n",
       "      <td>1.300000</td>\n",
       "    </tr>\n",
       "    <tr>\n",
       "      <th>75%</th>\n",
       "      <td>6.400000</td>\n",
       "      <td>3.300000</td>\n",
       "      <td>5.100000</td>\n",
       "      <td>1.800000</td>\n",
       "    </tr>\n",
       "    <tr>\n",
       "      <th>max</th>\n",
       "      <td>7.900000</td>\n",
       "      <td>4.400000</td>\n",
       "      <td>6.900000</td>\n",
       "      <td>2.500000</td>\n",
       "    </tr>\n",
       "  </tbody>\n",
       "</table>\n",
       "</div>"
      ],
      "text/plain": [
       "                0           1           2           3\n",
       "count  150.000000  150.000000  150.000000  150.000000\n",
       "mean     5.843333    3.054000    3.758667    1.198667\n",
       "std      0.828066    0.433594    1.764420    0.763161\n",
       "min      4.300000    2.000000    1.000000    0.100000\n",
       "25%      5.100000    2.800000    1.600000    0.300000\n",
       "50%      5.800000    3.000000    4.350000    1.300000\n",
       "75%      6.400000    3.300000    5.100000    1.800000\n",
       "max      7.900000    4.400000    6.900000    2.500000"
      ]
     },
     "execution_count": 15,
     "metadata": {},
     "output_type": "execute_result"
    }
   ],
   "source": [
    "df.describe()"
   ]
  },
  {
   "cell_type": "code",
   "execution_count": 11,
   "metadata": {},
   "outputs": [
    {
     "name": "stdout",
     "output_type": "stream",
     "text": [
      "0    float64\n",
      "1    float64\n",
      "2    float64\n",
      "3    float64\n",
      "4     object\n",
      "dtype: object\n"
     ]
    }
   ],
   "source": [
    "print(df.dtypes)"
   ]
  },
  {
   "cell_type": "code",
   "execution_count": 12,
   "metadata": {},
   "outputs": [
    {
     "data": {
      "text/plain": [
       "0      5.1\n",
       "1      4.9\n",
       "2      4.7\n",
       "3      4.6\n",
       "4      5.0\n",
       "      ... \n",
       "145    6.7\n",
       "146    6.3\n",
       "147    6.5\n",
       "148    6.2\n",
       "149    5.9\n",
       "Name: 0, Length: 150, dtype: float64"
      ]
     },
     "execution_count": 12,
     "metadata": {},
     "output_type": "execute_result"
    }
   ],
   "source": [
    "df[0]"
   ]
  },
  {
   "cell_type": "code",
   "execution_count": 13,
   "metadata": {},
   "outputs": [
    {
     "data": {
      "text/html": [
       "<div>\n",
       "<style scoped>\n",
       "    .dataframe tbody tr th:only-of-type {\n",
       "        vertical-align: middle;\n",
       "    }\n",
       "\n",
       "    .dataframe tbody tr th {\n",
       "        vertical-align: top;\n",
       "    }\n",
       "\n",
       "    .dataframe thead th {\n",
       "        text-align: right;\n",
       "    }\n",
       "</style>\n",
       "<table border=\"1\" class=\"dataframe\">\n",
       "  <thead>\n",
       "    <tr style=\"text-align: right;\">\n",
       "      <th></th>\n",
       "      <th>1</th>\n",
       "      <th>2</th>\n",
       "    </tr>\n",
       "  </thead>\n",
       "  <tbody>\n",
       "    <tr>\n",
       "      <th>0</th>\n",
       "      <td>3.5</td>\n",
       "      <td>1.4</td>\n",
       "    </tr>\n",
       "    <tr>\n",
       "      <th>1</th>\n",
       "      <td>3.0</td>\n",
       "      <td>1.4</td>\n",
       "    </tr>\n",
       "    <tr>\n",
       "      <th>2</th>\n",
       "      <td>3.2</td>\n",
       "      <td>1.3</td>\n",
       "    </tr>\n",
       "    <tr>\n",
       "      <th>3</th>\n",
       "      <td>3.1</td>\n",
       "      <td>1.5</td>\n",
       "    </tr>\n",
       "    <tr>\n",
       "      <th>4</th>\n",
       "      <td>3.6</td>\n",
       "      <td>1.4</td>\n",
       "    </tr>\n",
       "    <tr>\n",
       "      <th>...</th>\n",
       "      <td>...</td>\n",
       "      <td>...</td>\n",
       "    </tr>\n",
       "    <tr>\n",
       "      <th>145</th>\n",
       "      <td>3.0</td>\n",
       "      <td>5.2</td>\n",
       "    </tr>\n",
       "    <tr>\n",
       "      <th>146</th>\n",
       "      <td>2.5</td>\n",
       "      <td>5.0</td>\n",
       "    </tr>\n",
       "    <tr>\n",
       "      <th>147</th>\n",
       "      <td>3.0</td>\n",
       "      <td>5.2</td>\n",
       "    </tr>\n",
       "    <tr>\n",
       "      <th>148</th>\n",
       "      <td>3.4</td>\n",
       "      <td>5.4</td>\n",
       "    </tr>\n",
       "    <tr>\n",
       "      <th>149</th>\n",
       "      <td>3.0</td>\n",
       "      <td>5.1</td>\n",
       "    </tr>\n",
       "  </tbody>\n",
       "</table>\n",
       "<p>150 rows × 2 columns</p>\n",
       "</div>"
      ],
      "text/plain": [
       "       1    2\n",
       "0    3.5  1.4\n",
       "1    3.0  1.4\n",
       "2    3.2  1.3\n",
       "3    3.1  1.5\n",
       "4    3.6  1.4\n",
       "..   ...  ...\n",
       "145  3.0  5.2\n",
       "146  2.5  5.0\n",
       "147  3.0  5.2\n",
       "148  3.4  5.4\n",
       "149  3.0  5.1\n",
       "\n",
       "[150 rows x 2 columns]"
      ]
     },
     "execution_count": 13,
     "metadata": {},
     "output_type": "execute_result"
    }
   ],
   "source": [
    "df.iloc[:,[1,2]]"
   ]
  },
  {
   "cell_type": "code",
   "execution_count": 14,
   "metadata": {},
   "outputs": [
    {
     "name": "stdout",
     "output_type": "stream",
     "text": [
      "     0    1    2\n",
      "0  5.1  3.5  1.4\n",
      "1  4.9  3.0  1.4\n",
      "2  4.7  3.2  1.3\n",
      "3  4.6  3.1  1.5\n",
      "4  5.0  3.6  1.4\n",
      "5  5.4  3.9  1.7\n",
      "6  4.6  3.4  1.4\n",
      "7  5.0  3.4  1.5\n",
      "8  4.4  2.9  1.4\n",
      "9  4.9  3.1  1.5\n"
     ]
    }
   ],
   "source": [
    "newdf = df.iloc[:10,0:3]\n",
    "print(newdf)"
   ]
  },
  {
   "cell_type": "markdown",
   "metadata": {},
   "source": [
    "### Save as csv fie"
   ]
  },
  {
   "cell_type": "code",
   "execution_count": 15,
   "metadata": {},
   "outputs": [],
   "source": [
    "newdf.to_csv('iris.csv') # Save as csv fie"
   ]
  },
  {
   "cell_type": "code",
   "execution_count": 16,
   "metadata": {},
   "outputs": [
    {
     "name": "stdout",
     "output_type": "stream",
     "text": [
      "       0    1    2    3                4\n",
      "50   7.0  3.2  4.7  1.4  Iris-versicolor\n",
      "51   6.4  3.2  4.5  1.5  Iris-versicolor\n",
      "52   6.9  3.1  4.9  1.5  Iris-versicolor\n",
      "54   6.5  2.8  4.6  1.5  Iris-versicolor\n",
      "56   6.3  3.3  4.7  1.6  Iris-versicolor\n",
      "..   ...  ...  ...  ...              ...\n",
      "145  6.7  3.0  5.2  2.3   Iris-virginica\n",
      "146  6.3  2.5  5.0  1.9   Iris-virginica\n",
      "147  6.5  3.0  5.2  2.0   Iris-virginica\n",
      "148  6.2  3.4  5.4  2.3   Iris-virginica\n",
      "149  5.9  3.0  5.1  1.8   Iris-virginica\n",
      "\n",
      "[70 rows x 5 columns]\n"
     ]
    }
   ],
   "source": [
    "print(df[df[0]>5.843333])"
   ]
  },
  {
   "cell_type": "code",
   "execution_count": 27,
   "metadata": {},
   "outputs": [
    {
     "name": "stdout",
     "output_type": "stream",
     "text": [
      "       0    1    2    3                4\n",
      "54   6.5  2.8  4.6  1.5  Iris-versicolor\n",
      "58   6.6  2.9  4.6  1.3  Iris-versicolor\n",
      "62   6.0  2.2  4.0  1.0  Iris-versicolor\n",
      "63   6.1  2.9  4.7  1.4  Iris-versicolor\n",
      "68   6.2  2.2  4.5  1.5  Iris-versicolor\n",
      "71   6.1  2.8  4.0  1.3  Iris-versicolor\n",
      "72   6.3  2.5  4.9  1.5  Iris-versicolor\n",
      "73   6.1  2.8  4.7  1.2  Iris-versicolor\n",
      "74   6.4  2.9  4.3  1.3  Iris-versicolor\n",
      "76   6.8  2.8  4.8  1.4  Iris-versicolor\n",
      "78   6.0  2.9  4.5  1.5  Iris-versicolor\n",
      "83   6.0  2.7  5.1  1.6  Iris-versicolor\n",
      "87   6.3  2.3  4.4  1.3  Iris-versicolor\n",
      "97   6.2  2.9  4.3  1.3  Iris-versicolor\n",
      "103  6.3  2.9  5.6  1.8   Iris-virginica\n",
      "107  7.3  2.9  6.3  1.8   Iris-virginica\n",
      "108  6.7  2.5  5.8  1.8   Iris-virginica\n",
      "111  6.4  2.7  5.3  1.9   Iris-virginica\n",
      "118  7.7  2.6  6.9  2.3   Iris-virginica\n",
      "119  6.0  2.2  5.0  1.5   Iris-virginica\n",
      "122  7.7  2.8  6.7  2.0   Iris-virginica\n",
      "123  6.3  2.7  4.9  1.8   Iris-virginica\n",
      "126  6.2  2.8  4.8  1.8   Iris-virginica\n",
      "128  6.4  2.8  5.6  2.1   Iris-virginica\n",
      "130  7.4  2.8  6.1  1.9   Iris-virginica\n",
      "132  6.4  2.8  5.6  2.2   Iris-virginica\n",
      "133  6.3  2.8  5.1  1.5   Iris-virginica\n",
      "134  6.1  2.6  5.6  1.4   Iris-virginica\n",
      "146  6.3  2.5  5.0  1.9   Iris-virginica\n"
     ]
    }
   ],
   "source": [
    "print(df[(df[0]>5.843333) & (df[1]<3.0)])"
   ]
  },
  {
   "cell_type": "markdown",
   "metadata": {},
   "source": [
    "# Preprocssing "
   ]
  },
  {
   "cell_type": "markdown",
   "metadata": {},
   "source": [
    "<img src=\"cats.png\">"
   ]
  },
  {
   "cell_type": "markdown",
   "metadata": {},
   "source": [
    "# Scaling"
   ]
  },
  {
   "cell_type": "code",
   "execution_count": 28,
   "metadata": {},
   "outputs": [
    {
     "name": "stdout",
     "output_type": "stream",
     "text": [
      "[1.         0.         0.33333333] [0.81649658 0.81649658 1.24721913]\n",
      "[[ 0.         -1.22474487  1.33630621]\n",
      " [ 1.22474487  0.         -0.26726124]\n",
      " [-1.22474487  1.22474487 -1.06904497]]\n"
     ]
    }
   ],
   "source": [
    "from sklearn import preprocessing\n",
    "\n",
    "X_train = np.array([[ 1., -1.,  2.],\n",
    "                    [ 2.,  0.,  0.],\n",
    "                    [ 0.,  1., -1.]])\n",
    "\n",
    "scaler = preprocessing.StandardScaler().fit(X_train)\n",
    "X_scaled = scaler.transform(X_train)\n",
    "print(scaler.mean_, scaler.scale_)\n",
    "print(X_scaled)\n"
   ]
  },
  {
   "cell_type": "code",
   "execution_count": 29,
   "metadata": {},
   "outputs": [
    {
     "name": "stdout",
     "output_type": "stream",
     "text": [
      "[[0.5        0.         1.        ]\n",
      " [1.         0.5        0.33333333]\n",
      " [0.         1.         0.        ]]\n"
     ]
    }
   ],
   "source": [
    "min_max_scaler = preprocessing.MinMaxScaler()\n",
    "X_train_minmax = min_max_scaler.fit_transform(X_train)\n",
    "print(X_train_minmax)"
   ]
  },
  {
   "cell_type": "markdown",
   "metadata": {},
   "source": [
    "# Normalization"
   ]
  },
  {
   "cell_type": "code",
   "execution_count": 33,
   "metadata": {},
   "outputs": [
    {
     "data": {
      "text/plain": [
       "array([[ 0.40824829, -0.40824829,  0.81649658],\n",
       "       [ 1.        ,  0.        ,  0.        ],\n",
       "       [ 0.        ,  0.70710678, -0.70710678]])"
      ]
     },
     "execution_count": 33,
     "metadata": {},
     "output_type": "execute_result"
    }
   ],
   "source": [
    "X = [[ 1., -1.,  2.],\n",
    "     [ 2.,  0.,  0.],\n",
    "     [ 0.,  1., -1.]]\n",
    "X_normalized = preprocessing.normalize(X, norm='l2')\n",
    "\n",
    "print(X_normalized)"
   ]
  },
  {
   "cell_type": "markdown",
   "metadata": {},
   "source": [
    "# Encoding categorical features"
   ]
  },
  {
   "cell_type": "code",
   "execution_count": 35,
   "metadata": {},
   "outputs": [
    {
     "name": "stdout",
     "output_type": "stream",
     "text": [
      "[[0. 1. 1.]]\n",
      "[['female' 'from US' 'uses Safari']]\n"
     ]
    }
   ],
   "source": [
    "enc = preprocessing.OrdinalEncoder()\n",
    "X = [['male', 'from US', 'uses Safari'], \n",
    "     ['female', 'from Europe', 'uses Firefox']]\n",
    "enc.fit(X)\n",
    "\n",
    "\n",
    "encoded=enc.transform([['female', 'from US', 'uses Safari']])\n",
    "print(encoded)\n",
    "decoded= enc.inverse_transform(encoded)\n",
    "print(decoded)\n"
   ]
  },
  {
   "cell_type": "code",
   "execution_count": 38,
   "metadata": {},
   "outputs": [
    {
     "name": "stdout",
     "output_type": "stream",
     "text": [
      "[[0. 1. 0. 1. 0. 1.]\n",
      " [1. 0. 1. 0. 1. 0.]]\n",
      "[[1. 0. 0. 1. 0. 1.]]\n",
      "[['female' 'from US' 'uses Safari']]\n"
     ]
    }
   ],
   "source": [
    "enc = preprocessing.OneHotEncoder()\n",
    "X = [['male', 'from US', 'uses Safari'], \n",
    "     ['female', 'from Europe', 'uses Firefox']]\n",
    "enc.fit(X)\n",
    "print(enc.transform(X).toarray())\n",
    "encoded=enc.transform([['female', 'from US', 'uses Safari']])\n",
    "print(encoded.toarray())\n",
    "decoded= enc.inverse_transform(encoded)\n",
    "print(decoded)"
   ]
  },
  {
   "cell_type": "markdown",
   "metadata": {},
   "source": [
    "# Discretization"
   ]
  },
  {
   "cell_type": "code",
   "execution_count": 30,
   "metadata": {},
   "outputs": [
    {
     "name": "stdout",
     "output_type": "stream",
     "text": [
      "[[0. 1. 1.]\n",
      " [1. 1. 1.]\n",
      " [2. 0. 0.]]\n"
     ]
    }
   ],
   "source": [
    "X = np.array([[ -3., 5., 15 ],\n",
    "              [  0., 6., 14 ],\n",
    "              [  6., 3., 11 ]])\n",
    "est = preprocessing.KBinsDiscretizer(n_bins=[3, 2, 2], encode='ordinal').fit(X)\n",
    "print(est.transform(X))"
   ]
  },
  {
   "cell_type": "markdown",
   "metadata": {},
   "source": [
    "# Binarized"
   ]
  },
  {
   "cell_type": "code",
   "execution_count": 42,
   "metadata": {},
   "outputs": [
    {
     "name": "stdout",
     "output_type": "stream",
     "text": [
      "[[1. 0. 1.]\n",
      " [1. 0. 0.]\n",
      " [0. 1. 0.]]\n"
     ]
    }
   ],
   "source": [
    "X = [[ 1., -1.,  2.],\n",
    "     [ 2.,  0.,  0.],\n",
    "     [ 0.,  1., -1.]]\n",
    "\n",
    "binarizer = preprocessing.Binarizer().fit(X)  # fit does nothing\n",
    "binarizer\n",
    "\n",
    "\n",
    "binary =binarizer.transform(X)\n",
    "print(binary)"
   ]
  },
  {
   "cell_type": "markdown",
   "metadata": {},
   "source": [
    "# Application"
   ]
  },
  {
   "cell_type": "code",
   "execution_count": 31,
   "metadata": {},
   "outputs": [
    {
     "name": "stdout",
     "output_type": "stream",
     "text": [
      "       0    1    2    3               4\n",
      "0    5.1  3.5  1.4  0.2     Iris-setosa\n",
      "1    4.9  3.0  1.4  0.2     Iris-setosa\n",
      "2    4.7  3.2  1.3  0.2     Iris-setosa\n",
      "3    4.6  3.1  1.5  0.2     Iris-setosa\n",
      "4    5.0  3.6  1.4  0.2     Iris-setosa\n",
      "..   ...  ...  ...  ...             ...\n",
      "145  6.7  3.0  5.2  2.3  Iris-virginica\n",
      "146  6.3  2.5  5.0  1.9  Iris-virginica\n",
      "147  6.5  3.0  5.2  2.0  Iris-virginica\n",
      "148  6.2  3.4  5.4  2.3  Iris-virginica\n",
      "149  5.9  3.0  5.1  1.8  Iris-virginica\n",
      "\n",
      "[150 rows x 5 columns]\n"
     ]
    }
   ],
   "source": [
    "df = pd.read_csv(\"https://archive.ics.uci.edu/ml/machine-learning-databases/iris/iris.data\",header=None)\n",
    "print(df)"
   ]
  },
  {
   "cell_type": "code",
   "execution_count": 32,
   "metadata": {},
   "outputs": [
    {
     "name": "stdout",
     "output_type": "stream",
     "text": [
      "       0    1    2    3  4\n",
      "0    5.1  3.5  1.4  0.2  0\n",
      "1    4.9  3.0  1.4  0.2  0\n",
      "2    4.7  3.2  1.3  0.2  0\n",
      "3    4.6  3.1  1.5  0.2  0\n",
      "4    5.0  3.6  1.4  0.2  0\n",
      "..   ...  ...  ...  ... ..\n",
      "145  6.7  3.0  5.2  2.3  2\n",
      "146  6.3  2.5  5.0  1.9  2\n",
      "147  6.5  3.0  5.2  2.0  2\n",
      "148  6.2  3.4  5.4  2.3  2\n",
      "149  5.9  3.0  5.1  1.8  2\n",
      "\n",
      "[150 rows x 5 columns]\n"
     ]
    }
   ],
   "source": [
    "encoder = preprocessing.LabelEncoder()\n",
    "df[4]=encoder.fit_transform(df[4])\n",
    "print(df)"
   ]
  },
  {
   "cell_type": "code",
   "execution_count": 33,
   "metadata": {},
   "outputs": [
    {
     "data": {
      "text/html": [
       "<div>\n",
       "<style scoped>\n",
       "    .dataframe tbody tr th:only-of-type {\n",
       "        vertical-align: middle;\n",
       "    }\n",
       "\n",
       "    .dataframe tbody tr th {\n",
       "        vertical-align: top;\n",
       "    }\n",
       "\n",
       "    .dataframe thead th {\n",
       "        text-align: right;\n",
       "    }\n",
       "</style>\n",
       "<table border=\"1\" class=\"dataframe\">\n",
       "  <thead>\n",
       "    <tr style=\"text-align: right;\">\n",
       "      <th></th>\n",
       "      <th>0</th>\n",
       "      <th>1</th>\n",
       "      <th>2</th>\n",
       "      <th>3</th>\n",
       "      <th>4</th>\n",
       "    </tr>\n",
       "  </thead>\n",
       "  <tbody>\n",
       "    <tr>\n",
       "      <th>count</th>\n",
       "      <td>150.000000</td>\n",
       "      <td>150.000000</td>\n",
       "      <td>150.000000</td>\n",
       "      <td>150.000000</td>\n",
       "      <td>150.000000</td>\n",
       "    </tr>\n",
       "    <tr>\n",
       "      <th>mean</th>\n",
       "      <td>5.843333</td>\n",
       "      <td>3.054000</td>\n",
       "      <td>3.758667</td>\n",
       "      <td>1.198667</td>\n",
       "      <td>1.000000</td>\n",
       "    </tr>\n",
       "    <tr>\n",
       "      <th>std</th>\n",
       "      <td>0.828066</td>\n",
       "      <td>0.433594</td>\n",
       "      <td>1.764420</td>\n",
       "      <td>0.763161</td>\n",
       "      <td>0.819232</td>\n",
       "    </tr>\n",
       "    <tr>\n",
       "      <th>min</th>\n",
       "      <td>4.300000</td>\n",
       "      <td>2.000000</td>\n",
       "      <td>1.000000</td>\n",
       "      <td>0.100000</td>\n",
       "      <td>0.000000</td>\n",
       "    </tr>\n",
       "    <tr>\n",
       "      <th>25%</th>\n",
       "      <td>5.100000</td>\n",
       "      <td>2.800000</td>\n",
       "      <td>1.600000</td>\n",
       "      <td>0.300000</td>\n",
       "      <td>0.000000</td>\n",
       "    </tr>\n",
       "    <tr>\n",
       "      <th>50%</th>\n",
       "      <td>5.800000</td>\n",
       "      <td>3.000000</td>\n",
       "      <td>4.350000</td>\n",
       "      <td>1.300000</td>\n",
       "      <td>1.000000</td>\n",
       "    </tr>\n",
       "    <tr>\n",
       "      <th>75%</th>\n",
       "      <td>6.400000</td>\n",
       "      <td>3.300000</td>\n",
       "      <td>5.100000</td>\n",
       "      <td>1.800000</td>\n",
       "      <td>2.000000</td>\n",
       "    </tr>\n",
       "    <tr>\n",
       "      <th>max</th>\n",
       "      <td>7.900000</td>\n",
       "      <td>4.400000</td>\n",
       "      <td>6.900000</td>\n",
       "      <td>2.500000</td>\n",
       "      <td>2.000000</td>\n",
       "    </tr>\n",
       "  </tbody>\n",
       "</table>\n",
       "</div>"
      ],
      "text/plain": [
       "                0           1           2           3           4\n",
       "count  150.000000  150.000000  150.000000  150.000000  150.000000\n",
       "mean     5.843333    3.054000    3.758667    1.198667    1.000000\n",
       "std      0.828066    0.433594    1.764420    0.763161    0.819232\n",
       "min      4.300000    2.000000    1.000000    0.100000    0.000000\n",
       "25%      5.100000    2.800000    1.600000    0.300000    0.000000\n",
       "50%      5.800000    3.000000    4.350000    1.300000    1.000000\n",
       "75%      6.400000    3.300000    5.100000    1.800000    2.000000\n",
       "max      7.900000    4.400000    6.900000    2.500000    2.000000"
      ]
     },
     "execution_count": 33,
     "metadata": {},
     "output_type": "execute_result"
    }
   ],
   "source": [
    "df.describe()"
   ]
  },
  {
   "cell_type": "code",
   "execution_count": 34,
   "metadata": {},
   "outputs": [
    {
     "name": "stdout",
     "output_type": "stream",
     "text": [
      "[[5.1 3.5 1.4 0.2]\n",
      " [4.9 3.  1.4 0.2]\n",
      " [4.7 3.2 1.3 0.2]\n",
      " [4.6 3.1 1.5 0.2]\n",
      " [5.  3.6 1.4 0.2]\n",
      " [5.4 3.9 1.7 0.4]\n",
      " [4.6 3.4 1.4 0.3]\n",
      " [5.  3.4 1.5 0.2]\n",
      " [4.4 2.9 1.4 0.2]\n",
      " [4.9 3.1 1.5 0.1]\n",
      " [5.4 3.7 1.5 0.2]\n",
      " [4.8 3.4 1.6 0.2]\n",
      " [4.8 3.  1.4 0.1]\n",
      " [4.3 3.  1.1 0.1]\n",
      " [5.8 4.  1.2 0.2]\n",
      " [5.7 4.4 1.5 0.4]\n",
      " [5.4 3.9 1.3 0.4]\n",
      " [5.1 3.5 1.4 0.3]\n",
      " [5.7 3.8 1.7 0.3]\n",
      " [5.1 3.8 1.5 0.3]\n",
      " [5.4 3.4 1.7 0.2]\n",
      " [5.1 3.7 1.5 0.4]\n",
      " [4.6 3.6 1.  0.2]\n",
      " [5.1 3.3 1.7 0.5]\n",
      " [4.8 3.4 1.9 0.2]\n",
      " [5.  3.  1.6 0.2]\n",
      " [5.  3.4 1.6 0.4]\n",
      " [5.2 3.5 1.5 0.2]\n",
      " [5.2 3.4 1.4 0.2]\n",
      " [4.7 3.2 1.6 0.2]\n",
      " [4.8 3.1 1.6 0.2]\n",
      " [5.4 3.4 1.5 0.4]\n",
      " [5.2 4.1 1.5 0.1]\n",
      " [5.5 4.2 1.4 0.2]\n",
      " [4.9 3.1 1.5 0.1]\n",
      " [5.  3.2 1.2 0.2]\n",
      " [5.5 3.5 1.3 0.2]\n",
      " [4.9 3.1 1.5 0.1]\n",
      " [4.4 3.  1.3 0.2]\n",
      " [5.1 3.4 1.5 0.2]\n",
      " [5.  3.5 1.3 0.3]\n",
      " [4.5 2.3 1.3 0.3]\n",
      " [4.4 3.2 1.3 0.2]\n",
      " [5.  3.5 1.6 0.6]\n",
      " [5.1 3.8 1.9 0.4]\n",
      " [4.8 3.  1.4 0.3]\n",
      " [5.1 3.8 1.6 0.2]\n",
      " [4.6 3.2 1.4 0.2]\n",
      " [5.3 3.7 1.5 0.2]\n",
      " [5.  3.3 1.4 0.2]\n",
      " [7.  3.2 4.7 1.4]\n",
      " [6.4 3.2 4.5 1.5]\n",
      " [6.9 3.1 4.9 1.5]\n",
      " [5.5 2.3 4.  1.3]\n",
      " [6.5 2.8 4.6 1.5]\n",
      " [5.7 2.8 4.5 1.3]\n",
      " [6.3 3.3 4.7 1.6]\n",
      " [4.9 2.4 3.3 1. ]\n",
      " [6.6 2.9 4.6 1.3]\n",
      " [5.2 2.7 3.9 1.4]\n",
      " [5.  2.  3.5 1. ]\n",
      " [5.9 3.  4.2 1.5]\n",
      " [6.  2.2 4.  1. ]\n",
      " [6.1 2.9 4.7 1.4]\n",
      " [5.6 2.9 3.6 1.3]\n",
      " [6.7 3.1 4.4 1.4]\n",
      " [5.6 3.  4.5 1.5]\n",
      " [5.8 2.7 4.1 1. ]\n",
      " [6.2 2.2 4.5 1.5]\n",
      " [5.6 2.5 3.9 1.1]\n",
      " [5.9 3.2 4.8 1.8]\n",
      " [6.1 2.8 4.  1.3]\n",
      " [6.3 2.5 4.9 1.5]\n",
      " [6.1 2.8 4.7 1.2]\n",
      " [6.4 2.9 4.3 1.3]\n",
      " [6.6 3.  4.4 1.4]\n",
      " [6.8 2.8 4.8 1.4]\n",
      " [6.7 3.  5.  1.7]\n",
      " [6.  2.9 4.5 1.5]\n",
      " [5.7 2.6 3.5 1. ]\n",
      " [5.5 2.4 3.8 1.1]\n",
      " [5.5 2.4 3.7 1. ]\n",
      " [5.8 2.7 3.9 1.2]\n",
      " [6.  2.7 5.1 1.6]\n",
      " [5.4 3.  4.5 1.5]\n",
      " [6.  3.4 4.5 1.6]\n",
      " [6.7 3.1 4.7 1.5]\n",
      " [6.3 2.3 4.4 1.3]\n",
      " [5.6 3.  4.1 1.3]\n",
      " [5.5 2.5 4.  1.3]\n",
      " [5.5 2.6 4.4 1.2]\n",
      " [6.1 3.  4.6 1.4]\n",
      " [5.8 2.6 4.  1.2]\n",
      " [5.  2.3 3.3 1. ]\n",
      " [5.6 2.7 4.2 1.3]\n",
      " [5.7 3.  4.2 1.2]\n",
      " [5.7 2.9 4.2 1.3]\n",
      " [6.2 2.9 4.3 1.3]\n",
      " [5.1 2.5 3.  1.1]\n",
      " [5.7 2.8 4.1 1.3]\n",
      " [6.3 3.3 6.  2.5]\n",
      " [5.8 2.7 5.1 1.9]\n",
      " [7.1 3.  5.9 2.1]\n",
      " [6.3 2.9 5.6 1.8]\n",
      " [6.5 3.  5.8 2.2]\n",
      " [7.6 3.  6.6 2.1]\n",
      " [4.9 2.5 4.5 1.7]\n",
      " [7.3 2.9 6.3 1.8]\n",
      " [6.7 2.5 5.8 1.8]\n",
      " [7.2 3.6 6.1 2.5]\n",
      " [6.5 3.2 5.1 2. ]\n",
      " [6.4 2.7 5.3 1.9]\n",
      " [6.8 3.  5.5 2.1]\n",
      " [5.7 2.5 5.  2. ]\n",
      " [5.8 2.8 5.1 2.4]\n",
      " [6.4 3.2 5.3 2.3]\n",
      " [6.5 3.  5.5 1.8]\n",
      " [7.7 3.8 6.7 2.2]\n",
      " [7.7 2.6 6.9 2.3]\n",
      " [6.  2.2 5.  1.5]\n",
      " [6.9 3.2 5.7 2.3]\n",
      " [5.6 2.8 4.9 2. ]\n",
      " [7.7 2.8 6.7 2. ]\n",
      " [6.3 2.7 4.9 1.8]\n",
      " [6.7 3.3 5.7 2.1]\n",
      " [7.2 3.2 6.  1.8]\n",
      " [6.2 2.8 4.8 1.8]\n",
      " [6.1 3.  4.9 1.8]\n",
      " [6.4 2.8 5.6 2.1]\n",
      " [7.2 3.  5.8 1.6]\n",
      " [7.4 2.8 6.1 1.9]\n",
      " [7.9 3.8 6.4 2. ]\n",
      " [6.4 2.8 5.6 2.2]\n",
      " [6.3 2.8 5.1 1.5]\n",
      " [6.1 2.6 5.6 1.4]\n",
      " [7.7 3.  6.1 2.3]\n",
      " [6.3 3.4 5.6 2.4]\n",
      " [6.4 3.1 5.5 1.8]\n",
      " [6.  3.  4.8 1.8]\n",
      " [6.9 3.1 5.4 2.1]\n",
      " [6.7 3.1 5.6 2.4]\n",
      " [6.9 3.1 5.1 2.3]\n",
      " [5.8 2.7 5.1 1.9]\n",
      " [6.8 3.2 5.9 2.3]\n",
      " [6.7 3.3 5.7 2.5]\n",
      " [6.7 3.  5.2 2.3]\n",
      " [6.3 2.5 5.  1.9]\n",
      " [6.5 3.  5.2 2. ]\n",
      " [6.2 3.4 5.4 2.3]\n",
      " [5.9 3.  5.1 1.8]]\n"
     ]
    }
   ],
   "source": [
    "features  = df.iloc[:,:-1].values\n",
    "print(features)"
   ]
  },
  {
   "cell_type": "code",
   "execution_count": 35,
   "metadata": {},
   "outputs": [
    {
     "name": "stdout",
     "output_type": "stream",
     "text": [
      "[[1. 1. 0. 0.]\n",
      " [0. 1. 0. 0.]\n",
      " [0. 1. 0. 0.]\n",
      " [0. 1. 0. 0.]\n",
      " [0. 1. 0. 0.]\n",
      " [1. 1. 0. 0.]\n",
      " [0. 1. 0. 0.]\n",
      " [0. 1. 0. 0.]\n",
      " [0. 0. 0. 0.]\n",
      " [0. 1. 0. 0.]\n",
      " [1. 1. 0. 0.]\n",
      " [0. 1. 0. 0.]\n",
      " [0. 1. 0. 0.]\n",
      " [0. 1. 0. 0.]\n",
      " [2. 1. 0. 0.]\n",
      " [1. 1. 0. 0.]\n",
      " [1. 1. 0. 0.]\n",
      " [1. 1. 0. 0.]\n",
      " [1. 1. 0. 0.]\n",
      " [1. 1. 0. 0.]\n",
      " [1. 1. 0. 0.]\n",
      " [1. 1. 0. 0.]\n",
      " [0. 1. 0. 0.]\n",
      " [1. 1. 0. 0.]\n",
      " [0. 1. 0. 0.]\n",
      " [0. 1. 0. 0.]\n",
      " [0. 1. 0. 0.]\n",
      " [1. 1. 0. 0.]\n",
      " [1. 1. 0. 0.]\n",
      " [0. 1. 0. 0.]\n",
      " [0. 1. 0. 0.]\n",
      " [1. 1. 0. 0.]\n",
      " [1. 1. 0. 0.]\n",
      " [1. 1. 0. 0.]\n",
      " [0. 1. 0. 0.]\n",
      " [0. 1. 0. 0.]\n",
      " [1. 1. 0. 0.]\n",
      " [0. 1. 0. 0.]\n",
      " [0. 1. 0. 0.]\n",
      " [1. 1. 0. 0.]\n",
      " [0. 1. 0. 0.]\n",
      " [0. 0. 0. 0.]\n",
      " [0. 1. 0. 0.]\n",
      " [0. 1. 0. 0.]\n",
      " [1. 1. 0. 0.]\n",
      " [0. 1. 0. 0.]\n",
      " [1. 1. 0. 0.]\n",
      " [0. 1. 0. 0.]\n",
      " [1. 1. 0. 0.]\n",
      " [0. 1. 0. 0.]\n",
      " [3. 1. 1. 1.]\n",
      " [3. 1. 1. 1.]\n",
      " [3. 1. 2. 1.]\n",
      " [1. 0. 1. 1.]\n",
      " [3. 0. 1. 1.]\n",
      " [1. 0. 1. 1.]\n",
      " [2. 1. 1. 1.]\n",
      " [0. 0. 1. 0.]\n",
      " [3. 0. 1. 1.]\n",
      " [1. 0. 1. 1.]\n",
      " [0. 0. 1. 0.]\n",
      " [2. 1. 1. 1.]\n",
      " [2. 0. 1. 0.]\n",
      " [2. 0. 1. 1.]\n",
      " [1. 0. 1. 1.]\n",
      " [3. 1. 1. 1.]\n",
      " [1. 1. 1. 1.]\n",
      " [2. 0. 1. 0.]\n",
      " [2. 0. 1. 1.]\n",
      " [1. 0. 1. 0.]\n",
      " [2. 1. 1. 1.]\n",
      " [2. 0. 1. 1.]\n",
      " [2. 0. 2. 1.]\n",
      " [2. 0. 1. 0.]\n",
      " [3. 0. 1. 1.]\n",
      " [3. 1. 1. 1.]\n",
      " [3. 0. 1. 1.]\n",
      " [3. 1. 2. 1.]\n",
      " [2. 0. 1. 1.]\n",
      " [1. 0. 1. 0.]\n",
      " [1. 0. 1. 0.]\n",
      " [1. 0. 1. 0.]\n",
      " [2. 0. 1. 0.]\n",
      " [2. 0. 2. 1.]\n",
      " [1. 1. 1. 1.]\n",
      " [2. 1. 1. 1.]\n",
      " [3. 1. 1. 1.]\n",
      " [2. 0. 1. 1.]\n",
      " [1. 1. 1. 1.]\n",
      " [1. 0. 1. 1.]\n",
      " [1. 0. 1. 0.]\n",
      " [2. 1. 1. 1.]\n",
      " [2. 0. 1. 0.]\n",
      " [0. 0. 1. 0.]\n",
      " [1. 0. 1. 1.]\n",
      " [1. 1. 1. 0.]\n",
      " [1. 0. 1. 1.]\n",
      " [2. 0. 1. 1.]\n",
      " [1. 0. 1. 0.]\n",
      " [1. 0. 1. 1.]\n",
      " [2. 1. 2. 1.]\n",
      " [2. 0. 2. 1.]\n",
      " [3. 1. 2. 1.]\n",
      " [2. 0. 2. 1.]\n",
      " [3. 1. 2. 1.]\n",
      " [3. 1. 2. 1.]\n",
      " [0. 0. 1. 1.]\n",
      " [3. 0. 2. 1.]\n",
      " [3. 0. 2. 1.]\n",
      " [3. 1. 2. 1.]\n",
      " [3. 1. 2. 1.]\n",
      " [3. 0. 2. 1.]\n",
      " [3. 1. 2. 1.]\n",
      " [1. 0. 2. 1.]\n",
      " [2. 0. 2. 1.]\n",
      " [3. 1. 2. 1.]\n",
      " [3. 1. 2. 1.]\n",
      " [3. 1. 2. 1.]\n",
      " [3. 0. 2. 1.]\n",
      " [2. 0. 2. 1.]\n",
      " [3. 1. 2. 1.]\n",
      " [1. 0. 2. 1.]\n",
      " [3. 0. 2. 1.]\n",
      " [2. 0. 2. 1.]\n",
      " [3. 1. 2. 1.]\n",
      " [3. 1. 2. 1.]\n",
      " [2. 0. 1. 1.]\n",
      " [2. 1. 2. 1.]\n",
      " [3. 0. 2. 1.]\n",
      " [3. 1. 2. 1.]\n",
      " [3. 0. 2. 1.]\n",
      " [3. 1. 2. 1.]\n",
      " [3. 0. 2. 1.]\n",
      " [2. 0. 2. 1.]\n",
      " [2. 0. 2. 1.]\n",
      " [3. 1. 2. 1.]\n",
      " [2. 1. 2. 1.]\n",
      " [3. 1. 2. 1.]\n",
      " [2. 1. 1. 1.]\n",
      " [3. 1. 2. 1.]\n",
      " [3. 1. 2. 1.]\n",
      " [3. 1. 2. 1.]\n",
      " [2. 0. 2. 1.]\n",
      " [3. 1. 2. 1.]\n",
      " [3. 1. 2. 1.]\n",
      " [3. 1. 2. 1.]\n",
      " [2. 0. 2. 1.]\n",
      " [3. 1. 2. 1.]\n",
      " [2. 1. 2. 1.]\n",
      " [2. 1. 2. 1.]]\n"
     ]
    }
   ],
   "source": [
    "est = preprocessing.KBinsDiscretizer(n_bins=[4, 2, 3, 2], encode='ordinal').fit(features)\n",
    "cat_features = est.transform(features)\n",
    "print(cat_features)"
   ]
  },
  {
   "cell_type": "code",
   "execution_count": 36,
   "metadata": {},
   "outputs": [
    {
     "name": "stdout",
     "output_type": "stream",
     "text": [
      "[[0. 1. 0. ... 0. 1. 0.]\n",
      " [1. 0. 0. ... 0. 1. 0.]\n",
      " [1. 0. 0. ... 0. 1. 0.]\n",
      " ...\n",
      " [0. 0. 0. ... 1. 0. 1.]\n",
      " [0. 0. 1. ... 1. 0. 1.]\n",
      " [0. 0. 1. ... 1. 0. 1.]]\n"
     ]
    }
   ],
   "source": [
    "enc = preprocessing.OneHotEncoder()\n",
    "enc.fit(cat_features)\n",
    "binary_features = enc.transform(cat_features).toarray()       \n",
    "print(binary_features)"
   ]
  },
  {
   "cell_type": "code",
   "execution_count": 38,
   "metadata": {},
   "outputs": [
    {
     "data": {
      "text/plain": [
       "(150, 11)"
      ]
     },
     "execution_count": 38,
     "metadata": {},
     "output_type": "execute_result"
    }
   ],
   "source": [
    "binary_features.shape"
   ]
  },
  {
   "cell_type": "markdown",
   "metadata": {},
   "source": [
    "# Feature Selection and Extraction "
   ]
  },
  {
   "cell_type": "markdown",
   "metadata": {},
   "source": [
    "Feature selection is a process where you automatically select those features in your data that contribute most to the prediction variable or output in which you are interested.\n",
    "\n",
    "Having irrelevant features in your data can decrease the accuracy of many models, especially linear algorithms like linear and logistic regression.\n",
    "\n",
    "Three benefits of performing feature selection before modeling your data are:\n",
    "\n",
    "<b>Reduces Overfitting:</b> Less redundant data means less opportunity to make decisions based on noise.\n",
    "\n",
    "<b>Improves Accuracy:</b> Less misleading data means modeling accuracy improves.\n",
    "\n",
    "<b>Reduces Training Time:</b> Less data means that algorithms train faster."
   ]
  },
  {
   "cell_type": "markdown",
   "metadata": {},
   "source": [
    "<h2>Univariate Selection</h2>\n",
    "\n",
    "Statistical tests can be used to select those features that have the strongest relationship with the output variable"
   ]
  },
  {
   "cell_type": "code",
   "execution_count": 39,
   "metadata": {},
   "outputs": [
    {
     "name": "stdout",
     "output_type": "stream",
     "text": [
      "[ 41.27915633  11.9726776   10.85628743  35.66699411  30.48278623\n",
      "  30.48278623          inf 299.57846154 307.11692308 184.33333333\n",
      " 184.33333333]\n",
      "[[1. 0. 0. 0.]\n",
      " [1. 0. 0. 0.]\n",
      " [1. 0. 0. 0.]\n",
      " [1. 0. 0. 0.]\n",
      " [1. 0. 0. 0.]\n",
      " [1. 0. 0. 0.]\n",
      " [1. 0. 0. 0.]\n",
      " [1. 0. 0. 0.]\n",
      " [1. 0. 0. 0.]\n",
      " [1. 0. 0. 0.]\n",
      " [1. 0. 0. 0.]\n",
      " [1. 0. 0. 0.]\n",
      " [1. 0. 0. 0.]\n",
      " [1. 0. 0. 0.]\n",
      " [1. 0. 0. 0.]\n",
      " [1. 0. 0. 0.]\n",
      " [1. 0. 0. 0.]\n",
      " [1. 0. 0. 0.]\n",
      " [1. 0. 0. 0.]\n",
      " [1. 0. 0. 0.]\n",
      " [1. 0. 0. 0.]\n",
      " [1. 0. 0. 0.]\n",
      " [1. 0. 0. 0.]\n",
      " [1. 0. 0. 0.]\n",
      " [1. 0. 0. 0.]\n",
      " [1. 0. 0. 0.]\n",
      " [1. 0. 0. 0.]\n",
      " [1. 0. 0. 0.]\n",
      " [1. 0. 0. 0.]\n",
      " [1. 0. 0. 0.]\n",
      " [1. 0. 0. 0.]\n",
      " [1. 0. 0. 0.]\n",
      " [1. 0. 0. 0.]\n",
      " [1. 0. 0. 0.]\n",
      " [1. 0. 0. 0.]\n",
      " [1. 0. 0. 0.]\n",
      " [1. 0. 0. 0.]\n",
      " [1. 0. 0. 0.]\n",
      " [1. 0. 0. 0.]\n",
      " [1. 0. 0. 0.]\n",
      " [1. 0. 0. 0.]\n",
      " [1. 0. 0. 0.]\n",
      " [1. 0. 0. 0.]\n",
      " [1. 0. 0. 0.]\n",
      " [1. 0. 0. 0.]\n",
      " [1. 0. 0. 0.]\n",
      " [1. 0. 0. 0.]\n",
      " [1. 0. 0. 0.]\n",
      " [1. 0. 0. 0.]\n",
      " [1. 0. 0. 0.]\n",
      " [0. 1. 0. 1.]\n",
      " [0. 1. 0. 1.]\n",
      " [0. 0. 1. 1.]\n",
      " [0. 1. 0. 1.]\n",
      " [0. 1. 0. 1.]\n",
      " [0. 1. 0. 1.]\n",
      " [0. 1. 0. 1.]\n",
      " [0. 1. 0. 0.]\n",
      " [0. 1. 0. 1.]\n",
      " [0. 1. 0. 1.]\n",
      " [0. 1. 0. 0.]\n",
      " [0. 1. 0. 1.]\n",
      " [0. 1. 0. 0.]\n",
      " [0. 1. 0. 1.]\n",
      " [0. 1. 0. 1.]\n",
      " [0. 1. 0. 1.]\n",
      " [0. 1. 0. 1.]\n",
      " [0. 1. 0. 0.]\n",
      " [0. 1. 0. 1.]\n",
      " [0. 1. 0. 0.]\n",
      " [0. 1. 0. 1.]\n",
      " [0. 1. 0. 1.]\n",
      " [0. 0. 1. 1.]\n",
      " [0. 1. 0. 0.]\n",
      " [0. 1. 0. 1.]\n",
      " [0. 1. 0. 1.]\n",
      " [0. 1. 0. 1.]\n",
      " [0. 0. 1. 1.]\n",
      " [0. 1. 0. 1.]\n",
      " [0. 1. 0. 0.]\n",
      " [0. 1. 0. 0.]\n",
      " [0. 1. 0. 0.]\n",
      " [0. 1. 0. 0.]\n",
      " [0. 0. 1. 1.]\n",
      " [0. 1. 0. 1.]\n",
      " [0. 1. 0. 1.]\n",
      " [0. 1. 0. 1.]\n",
      " [0. 1. 0. 1.]\n",
      " [0. 1. 0. 1.]\n",
      " [0. 1. 0. 1.]\n",
      " [0. 1. 0. 0.]\n",
      " [0. 1. 0. 1.]\n",
      " [0. 1. 0. 0.]\n",
      " [0. 1. 0. 0.]\n",
      " [0. 1. 0. 1.]\n",
      " [0. 1. 0. 0.]\n",
      " [0. 1. 0. 1.]\n",
      " [0. 1. 0. 1.]\n",
      " [0. 1. 0. 0.]\n",
      " [0. 1. 0. 1.]\n",
      " [0. 0. 1. 1.]\n",
      " [0. 0. 1. 1.]\n",
      " [0. 0. 1. 1.]\n",
      " [0. 0. 1. 1.]\n",
      " [0. 0. 1. 1.]\n",
      " [0. 0. 1. 1.]\n",
      " [0. 1. 0. 1.]\n",
      " [0. 0. 1. 1.]\n",
      " [0. 0. 1. 1.]\n",
      " [0. 0. 1. 1.]\n",
      " [0. 0. 1. 1.]\n",
      " [0. 0. 1. 1.]\n",
      " [0. 0. 1. 1.]\n",
      " [0. 0. 1. 1.]\n",
      " [0. 0. 1. 1.]\n",
      " [0. 0. 1. 1.]\n",
      " [0. 0. 1. 1.]\n",
      " [0. 0. 1. 1.]\n",
      " [0. 0. 1. 1.]\n",
      " [0. 0. 1. 1.]\n",
      " [0. 0. 1. 1.]\n",
      " [0. 0. 1. 1.]\n",
      " [0. 0. 1. 1.]\n",
      " [0. 0. 1. 1.]\n",
      " [0. 0. 1. 1.]\n",
      " [0. 0. 1. 1.]\n",
      " [0. 1. 0. 1.]\n",
      " [0. 0. 1. 1.]\n",
      " [0. 0. 1. 1.]\n",
      " [0. 0. 1. 1.]\n",
      " [0. 0. 1. 1.]\n",
      " [0. 0. 1. 1.]\n",
      " [0. 0. 1. 1.]\n",
      " [0. 0. 1. 1.]\n",
      " [0. 0. 1. 1.]\n",
      " [0. 0. 1. 1.]\n",
      " [0. 0. 1. 1.]\n",
      " [0. 0. 1. 1.]\n",
      " [0. 1. 0. 1.]\n",
      " [0. 0. 1. 1.]\n",
      " [0. 0. 1. 1.]\n",
      " [0. 0. 1. 1.]\n",
      " [0. 0. 1. 1.]\n",
      " [0. 0. 1. 1.]\n",
      " [0. 0. 1. 1.]\n",
      " [0. 0. 1. 1.]\n",
      " [0. 0. 1. 1.]\n",
      " [0. 0. 1. 1.]\n",
      " [0. 0. 1. 1.]\n",
      " [0. 0. 1. 1.]]\n"
     ]
    },
    {
     "name": "stderr",
     "output_type": "stream",
     "text": [
      "C:\\Users\\JaFsi\\anaconda3\\lib\\site-packages\\sklearn\\feature_selection\\_univariate_selection.py:115: RuntimeWarning: divide by zero encountered in true_divide\n",
      "  f = msb / msw\n"
     ]
    }
   ],
   "source": [
    "# Feature Selection with Univariate Statistical Tests\n",
    "from sklearn.feature_selection import SelectKBest\n",
    "from sklearn.feature_selection import f_classif\n",
    "\n",
    "# feature extraction\n",
    "test = SelectKBest(score_func=f_classif, k=4)\n",
    "fit = test.fit(binary_features,df[4])\n",
    "print(fit.scores_)\n",
    "r_features = fit.transform(binary_features)\n",
    "# summarize selected features\n",
    "print(r_features)"
   ]
  },
  {
   "cell_type": "code",
   "execution_count": 40,
   "metadata": {},
   "outputs": [
    {
     "data": {
      "text/plain": [
       "<matplotlib.axes._subplots.AxesSubplot at 0x27641880348>"
      ]
     },
     "execution_count": 40,
     "metadata": {},
     "output_type": "execute_result"
    },
    {
     "data": {
      "image/png": "[encoded data removed]",
      "text/plain": [
       "<Figure size 432x288 with 2 Axes>"
      ]
     },
     "metadata": {
      "needs_background": "light"
     },
     "output_type": "display_data"
    }
   ],
   "source": [
    "import seaborn as sns\n",
    "comat = pd.DataFrame(binary_features).corr()\n",
    "sns.heatmap(comat)"
   ]
  },
  {
   "cell_type": "code",
   "execution_count": 42,
   "metadata": {},
   "outputs": [
    {
     "data": {
      "text/plain": [
       "<matplotlib.axes._subplots.AxesSubplot at 0x276424f7508>"
      ]
     },
     "execution_count": 42,
     "metadata": {},
     "output_type": "execute_result"
    },
    {
     "data": {
      "image/png": "[encoded data removed]",
      "text/plain": [
       "<Figure size 432x288 with 2 Axes>"
      ]
     },
     "metadata": {
      "needs_background": "light"
     },
     "output_type": "display_data"
    }
   ],
   "source": [
    "comat = pd.DataFrame(r_features).corr()\n",
    "sns.heatmap(comat,annot = True)"
   ]
  },
  {
   "cell_type": "markdown",
   "metadata": {},
   "source": [
    "## Principle Component Anslysis"
   ]
  },
  {
   "cell_type": "code",
   "execution_count": 46,
   "metadata": {},
   "outputs": [
    {
     "name": "stdout",
     "output_type": "stream",
     "text": [
      "[[-2.68420713  0.32660731 -0.02151184]\n",
      " [-2.71539062 -0.16955685 -0.20352143]\n",
      " [-2.88981954 -0.13734561  0.02470924]\n",
      " [-2.7464372  -0.31112432  0.03767198]\n",
      " [-2.72859298  0.33392456  0.0962297 ]\n",
      " [-2.27989736  0.74778271  0.17432562]\n",
      " [-2.82089068 -0.08210451  0.26425109]\n",
      " [-2.62648199  0.17040535 -0.01580151]\n",
      " [-2.88795857 -0.57079803  0.02733541]\n",
      " [-2.67384469 -0.1066917  -0.1915333 ]\n",
      " [-2.50652679  0.65193501 -0.069275  ]\n",
      " [-2.61314272  0.02152063  0.10765035]\n",
      " [-2.78743398 -0.22774019 -0.20032779]\n",
      " [-3.22520045 -0.50327991  0.06841363]\n",
      " [-2.64354322  1.1861949  -0.1445057 ]\n",
      " [-2.38386932  1.34475434  0.28373066]\n",
      " [-2.6225262   0.81808967  0.14531599]\n",
      " [-2.64832273  0.31913667  0.03339425]\n",
      " [-2.19907796  0.87924409 -0.11452146]\n",
      " [-2.58734619  0.52047364  0.21957209]\n",
      " [-2.3105317   0.39786782 -0.23369561]\n",
      " [-2.54323491  0.44003175  0.21483637]\n",
      " [-3.21585769  0.14161557  0.29961898]\n",
      " [-2.30312854  0.10552268  0.04568004]\n",
      " [-2.35617109 -0.03120959  0.12940758]\n",
      " [-2.50791723 -0.13905634 -0.24711634]\n",
      " [-2.469056    0.13788731  0.10126308]\n",
      " [-2.56239095  0.37468456 -0.07235916]\n",
      " [-2.63982127  0.31929007 -0.13925337]\n",
      " [-2.63284791 -0.19007583  0.04646646]\n",
      " [-2.58846205 -0.19739308 -0.07127507]\n",
      " [-2.41007734  0.41808001 -0.13838824]\n",
      " [-2.64763667  0.81998263  0.2305856 ]\n",
      " [-2.59715948  1.10002193  0.16358191]\n",
      " [-2.67384469 -0.1066917  -0.1915333 ]\n",
      " [-2.86699985  0.0771931  -0.15684235]\n",
      " [-2.62522846  0.60680001 -0.26116316]\n",
      " [-2.67384469 -0.1066917  -0.1915333 ]\n",
      " [-2.98184266 -0.48025005  0.07972481]\n",
      " [-2.59032303  0.23605934 -0.07390124]\n",
      " [-2.77013891  0.27105942  0.08424157]\n",
      " [-2.85221108 -0.93286537 -0.34096149]\n",
      " [-2.99829644 -0.33430757  0.19900842]\n",
      " [-2.4055141   0.19591726  0.27071707]\n",
      " [-2.20883295  0.44269603  0.30348781]\n",
      " [-2.71566519 -0.24268148 -0.09051561]\n",
      " [-2.53757337  0.51036755  0.1719184 ]\n",
      " [-2.8403213  -0.22057634  0.09006138]\n",
      " [-2.54268576  0.58628103 -0.01117527]\n",
      " [-2.70391231  0.11501085 -0.08269573]\n",
      " [ 1.28479459  0.68543919 -0.40612955]\n",
      " [ 0.93241075  0.31919809 -0.01712991]\n",
      " [ 1.46406132  0.50418983 -0.33826073]\n",
      " [ 0.18096721 -0.82560394 -0.17708286]\n",
      " [ 1.08713449  0.07539039 -0.30654446]\n",
      " [ 0.64043675 -0.41732348  0.04118877]\n",
      " [ 1.09522371  0.28389121  0.17002253]\n",
      " [-0.75146714 -1.00110751  0.01567219]\n",
      " [ 1.04329778  0.22895691 -0.41481457]\n",
      " [-0.01019007 -0.72057487  0.28343725]\n",
      " [-0.5110862  -1.26249195 -0.26648995]\n",
      " [ 0.51109806 -0.10228411  0.13232789]\n",
      " [ 0.26233576 -0.5478933  -0.69194158]\n",
      " [ 0.98404455 -0.12436042 -0.06215743]\n",
      " [-0.174864   -0.25181557  0.09365864]\n",
      " [ 0.92757294  0.46823621 -0.3132294 ]\n",
      " [ 0.65959279 -0.35197629  0.3283843 ]\n",
      " [ 0.23454059 -0.33192183 -0.27028067]\n",
      " [ 0.94236171 -0.54182226 -0.49734854]\n",
      " [ 0.0432464  -0.58148945 -0.23296356]\n",
      " [ 1.11624072 -0.08421401  0.45984423]\n",
      " [ 0.35678657 -0.06682383 -0.22747218]\n",
      " [ 1.29646885 -0.32756152 -0.34751321]\n",
      " [ 0.92050265 -0.18239036 -0.23161142]\n",
      " [ 0.71400821  0.15037915 -0.32037233]\n",
      " [ 0.89964086  0.32961098 -0.31477148]\n",
      " [ 1.33104142  0.24466952 -0.52124492]\n",
      " [ 1.55739627  0.26739258 -0.16463849]\n",
      " [ 0.81245555 -0.16233157  0.03634358]\n",
      " [-0.30733476 -0.36508661 -0.3153372 ]\n",
      " [-0.07034289 -0.70253793 -0.24175804]\n",
      " [-0.19188449 -0.67749054 -0.30391654]\n",
      " [ 0.13499495 -0.31170964 -0.1749733 ]\n",
      " [ 1.37873698 -0.42120514  0.0154805 ]\n",
      " [ 0.58727485 -0.48328427  0.44458375]\n",
      " [ 0.8072055   0.19505396  0.38945871]\n",
      " [ 1.22042897  0.40803534 -0.23656609]\n",
      " [ 0.81286779 -0.370679   -0.61287105]\n",
      " [ 0.24519516 -0.26672804  0.18956248]\n",
      " [ 0.16451343 -0.67966147 -0.05779924]\n",
      " [ 0.46303099 -0.66952655 -0.02405389]\n",
      " [ 0.89016045 -0.03381244 -0.00976803]\n",
      " [ 0.22887905 -0.40225762 -0.22736271]\n",
      " [-0.70708128 -1.00842476 -0.10206934]\n",
      " [ 0.35553304 -0.50321849  0.01788947]\n",
      " [ 0.33112695 -0.21118014  0.08380907]\n",
      " [ 0.37523823 -0.29162202  0.07907336]\n",
      " [ 0.64169028  0.01907118 -0.20417288]\n",
      " [-0.90846333 -0.75156873 -0.00773658]\n",
      " [ 0.29780791 -0.34701652  0.01217914]\n",
      " [ 2.53172698 -0.01184224  0.75845865]\n",
      " [ 1.41407223 -0.57492506  0.29639822]\n",
      " [ 2.61648461  0.34193529 -0.11214137]\n",
      " [ 1.97081495 -0.18112569  0.10653915]\n",
      " [ 2.34975798 -0.04188255  0.28411068]\n",
      " [ 3.39687992  0.54716805 -0.35187316]\n",
      " [ 0.51938325 -1.19135169  0.54668553]\n",
      " [ 2.9320051   0.35237701 -0.42369128]\n",
      " [ 2.31967279 -0.24554817 -0.34992218]\n",
      " [ 2.91813423  0.78038063  0.42173893]\n",
      " [ 1.66193495  0.2420384   0.24281526]\n",
      " [ 1.80234045 -0.21615461 -0.03769533]\n",
      " [ 2.16537886  0.21528028  0.03314818]\n",
      " [ 1.34459422 -0.77641543  0.28286802]\n",
      " [ 1.5852673  -0.53930705  0.63057049]\n",
      " [ 1.90474358  0.11881899  0.48013808]\n",
      " [ 1.94924878  0.04073026  0.04272909]\n",
      " [ 3.48876538  1.17154454  0.12932008]\n",
      " [ 3.79468686  0.25326557 -0.51697072]\n",
      " [ 1.29832982 -0.76101394 -0.34488705]\n",
      " [ 2.42816726  0.37678197  0.21864907]\n",
      " [ 1.19809737 -0.60557896  0.51264077]\n",
      " [ 3.49926548  0.45677347 -0.57691019]\n",
      " [ 1.38766825 -0.20403099 -0.06351132]\n",
      " [ 2.27585365  0.33338653  0.28467815]\n",
      " [ 2.61419383  0.55836695 -0.20842335]\n",
      " [ 1.25762518 -0.179137    0.04697781]\n",
      " [ 1.29066965 -0.11642525  0.23161356]\n",
      " [ 2.12285398 -0.21085488  0.15351589]\n",
      " [ 2.3875644   0.46251925 -0.45202396]\n",
      " [ 2.84096093  0.37274259 -0.50103154]\n",
      " [ 3.2323429   1.37052404 -0.11844878]\n",
      " [ 2.15873837 -0.21832553  0.20842198]\n",
      " [ 1.4431026  -0.14380129 -0.15408297]\n",
      " [ 1.77964011 -0.50146479 -0.17581119]\n",
      " [ 3.07652162  0.68576444 -0.33642274]\n",
      " [ 2.14498686  0.13890661  0.73418474]\n",
      " [ 1.90486293  0.04804751  0.16047063]\n",
      " [ 1.16885347 -0.1645025   0.28246088]\n",
      " [ 2.10765373  0.37148225  0.02743786]\n",
      " [ 2.31430339  0.18260885  0.3228604 ]\n",
      " [ 1.92245088  0.40927118  0.11549282]\n",
      " [ 1.41407223 -0.57492506  0.29639822]\n",
      " [ 2.56332271  0.2759745   0.29125361]\n",
      " [ 2.41939122  0.30350394  0.50430252]\n",
      " [ 1.94401705  0.18741522  0.17930287]\n",
      " [ 1.52566363 -0.37502085 -0.12063644]\n",
      " [ 1.76404594  0.07851919  0.13078405]\n",
      " [ 1.90162908  0.11587675  0.72287356]\n",
      " [ 1.38966613 -0.28288671  0.36231783]]\n"
     ]
    }
   ],
   "source": [
    "from sklearn.decomposition import PCA\n",
    "df = pd.read_csv(\"https://archive.ics.uci.edu/ml/machine-learning-databases/iris/iris.data\",header=None)\n",
    "X = df.iloc[:,:-1].values\n",
    "pca = PCA(n_components=3)\n",
    "X_r = pca.fit_transform(X)\n",
    "print(X_r)"
   ]
  },
  {
   "cell_type": "code",
   "execution_count": null,
   "metadata": {},
   "outputs": [],
   "source": []
  }
 ],
 "metadata": {
  "kernelspec": {
   "display_name": "Python 3",
   "language": "python",
   "name": "python3"
  },
  "language_info": {
   "codemirror_mode": {
    "name": "ipython",
    "version": 3
   },
   "file_extension": ".py",
   "mimetype": "text/x-python",
   "name": "python",
   "nbconvert_exporter": "python",
   "pygments_lexer": "ipython3",
   "version": "3.7.6"
  }
 },
 "nbformat": 4,
 "nbformat_minor": 4
}
